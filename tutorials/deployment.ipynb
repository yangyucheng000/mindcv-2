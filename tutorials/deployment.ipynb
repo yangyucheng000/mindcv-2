{
 "cells": [
  {
   "cell_type": "markdown",
   "metadata": {},
   "source": [
    "# 部署推理服务\n",
    "\n",
    "本文以Densenet121网络为例，演示基于MindSpore Serving进行部署推理服务的方法。\n",
    "\n",
    "MindSpore Serving是一个轻量级、高性能的推理服务模块，旨在帮助MindSpore开发者在生产环境中高效部署在线推理服务。当用户使用MindSpore完成模型训练后，导出MindSpore模型，即可使用MindSpore Serving创建该模型的推理服务。\n",
    "\n"
   ]
  },
  {
   "cell_type": "markdown",
   "metadata": {},
   "source": [
    "## 环境准备\n",
    "进行部署前，需确保已经正确安装了MindSpore Serving，并配置了环境变量。MindSpore Serving安装和配置可以参考[MindSpore Serving安装页面](https://www.mindspore.cn/serving/docs/zh-CN/master/serving_install.html)。"
   ]
  },
  {
   "cell_type": "markdown",
   "metadata": {},
   "source": [
    "## 模型导出\n",
    "\n",
    "实现跨平台或硬件执行推理（如昇腾AI处理器、MindSpore端侧、GPU等），需要通过网络定义和CheckPoint生成MindIR格式模型文件。在Mindspore中，网络模型导出的函数为`export`，主要参数如下所示：\n",
    "\n",
    "- `net`：MindSpore网络结构。\n",
    "- `inputs`：网络的输入，支持输入类型为Tensor。当输入有多个时，需要一起传入，如`ms.export(network, ms.Tensor(input1), ms.Tensor(input2), file_name='network', file_format='MINDIR')`。\n",
    "- `file_name`：导出模型的文件名称，如果`file_name`没有包含对应的后缀名(如.mindir)，设置`file_format`后系统会为文件名自动添加后缀。\n",
    "- `file_format`：MindSpore目前支持导出”AIR”，”ONNX”和”MINDIR”格式的模型。\n",
    "\n",
    "下面代码以Densenet121为例，导出mindcv的预训练网络模型，获得MindIR格式模型文件。"
   ]
  },
  {
   "cell_type": "code",
   "execution_count": 1,
   "metadata": {},
   "outputs": [],
   "source": [
    "from mindcv.models import create_model\n",
    "import numpy as np\n",
    "import mindspore as ms\n",
    "\n",
    "model = create_model(model_name='densenet121', num_classes=1000, pretrained=True)\n",
    "\n",
    "input_np = np.random.uniform(0.0, 1.0, size=[1, 3, 224, 224]).astype(np.float32)\n",
    "\n",
    "# 导出文件densenet121_224.mindir到当前文件夹\n",
    "ms.export(model, ms.Tensor(input_np), file_name='densenet121_224', file_format='MINDIR')"
   ]
  },
  {
   "cell_type": "markdown",
   "metadata": {},
   "source": [
    "## 部署Serving推理服务\n",
    "\n",
    "### 配置服务\n",
    "启动Serving服务，执行本教程需要如下文件列表:\n",
    "```Text\n",
    "demo\n",
    "├── densenet121\n",
    "│   ├── 1\n",
    "│   │   └── densenet121_224.mindir\n",
    "│   └── servable_config.py\n",
    "│── serving_server.py\n",
    "├── serving_client.py\n",
    "└── test_image\n",
    "    ├─ dog\n",
    "    │   ├─ dog.jpg\n",
    "    │   └─ ……\n",
    "    └─ ……\n",
    "```\n",
    "\n",
    "\n",
    "- `densenet121`为模型文件夹，文件夹名即为模型名。\n",
    "- `densenet121_224.mindir`为上一步网络生成的模型文件，放置在文件夹1下，1为版本号，不同的版本放置在不同的文件夹下，版本号需以纯数字串命名，默认配置下启动最大数值的版本号的模型文件。\n",
    "- `servable_config.py`为模型配置脚本，对模型进行声明、入参和出参定义。\n",
    "- `serving_server.py`为启动服务脚本文件。\n",
    "- `serving_client.py`为启动客户端脚本文件。\n",
    "- `test_image`中为测试图片。\n",
    "\n",
    "其中，模型配置文件`serving_config.py`内容如下：\n",
    "```python\n",
    "from mindspore_serving.server import register\n",
    "\n",
    "# 进行模型声明，其中declare_model入参model_file指示模型的文件名称，model_format指示模型的模型类别\n",
    "model = register.declare_model(model_file=\"densenet121_224.mindir\", model_format=\"MindIR\")\n",
    "\n",
    "# Servable方法的入参由Python方法的入参指定，Servable方法的出参由register_method的output_names指定\n",
    "@register.register_method(output_names=[\"score\"])\n",
    "def predict(image):\n",
    "    x = register.add_stage(model, image, outputs_count=1)\n",
    "    return x\n",
    "```"
   ]
  },
  {
   "cell_type": "markdown",
   "metadata": {},
   "source": [
    "### 启动服务\n",
    "\n",
    "Mindspore的`server`函数提供两种服务部署，一种是gRPC方式，一种是通过RESTful方式，本教程以gRPC方式为例。服务启动脚本`serving_server.py`把本地目录下的densenet121部署到设备0，并启动地址为127.0.0.1:5500的gRPC服务器。脚本文件内容如下：\n",
    "```python\n",
    "import os\n",
    "import sys\n",
    "from mindspore_serving import server\n",
    "\n",
    "def start():\n",
    "    servable_dir = os.path.dirname(os.path.realpath(sys.argv[0]))\n",
    "\n",
    "    servable_config = server.ServableStartConfig(servable_directory=servable_dir, servable_name=\"densenet121\",\n",
    "                                                 device_ids=0)\n",
    "    server.start_servables(servable_configs=servable_config)\n",
    "    server.start_grpc_server(address=\"127.0.0.1:5500\")\n",
    "\n",
    "if __name__ == \"__main__\":\n",
    "    start()\n",
    "```\n",
    "\n",
    "当服务端打印如下日志时，表示Serving gRPC服务启动成功。\n",
    "\n",
    "```text\n",
    "Serving gRPC server start success, listening on 127.0.0.1:5500\n",
    "```"
   ]
  },
  {
   "cell_type": "markdown",
   "metadata": {},
   "source": [
    "### 执行推理\n",
    "使用`serving_client.py`，启动Python客户端。客户端脚本使用`mindcv.data`的`create_transforms`, `create_dataset`和`create_loader`函数，进行图片预处理，再传送给Serving服务器。对服务器返回的结果进行后处理，打印图片的预测标签。\n",
    "```python\n",
    "import os\n",
    "from mindspore_serving.client import Client\n",
    "import numpy as np\n",
    "from mindcv.data import create_transforms, create_dataset, create_loader\n",
    "\n",
    "num_workers = 1\n",
    "\n",
    "# 数据集目录路径\n",
    "data_dir = \"./test_image/\"\n",
    "\n",
    "dataset = create_dataset(root=data_dir, split='', num_parallel_workers=num_workers)\n",
    "transforms_list = create_transforms(dataset_name='ImageNet', is_training=False)\n",
    "data_loader = create_loader(\n",
    "        dataset=dataset,\n",
    "        batch_size=1,\n",
    "        is_training=False,\n",
    "        num_classes=1000,\n",
    "        transform=transforms_list,\n",
    "        num_parallel_workers=num_workers\n",
    "    )\n",
    "with open(\"imagenet1000_clsidx_to_labels.txt\") as f:\n",
    "    idx2label = eval(f.read())\n",
    "\n",
    "def postprocess(score):\n",
    "    max_idx = np.argmax(score)\n",
    "    return idx2label[max_idx]\n",
    "\n",
    "def predict():\n",
    "    client = Client(\"127.0.0.1:5500\", \"densenet121\", \"predict\") \n",
    "    instances = []\n",
    "    images, _ = next(data_loader.create_tuple_iterator())\n",
    "    image_np = images.asnumpy().squeeze()   \n",
    "    instances.append({\"image\": image_np})\n",
    "    result = client.infer(instances)\n",
    "\n",
    "    for instance in result:\n",
    "        label = postprocess(instance[\"score\"])\n",
    "        print(label)\n",
    "\n",
    "if __name__ == '__main__':\n",
    "    predict()\n",
    "```"
   ]
  },
  {
   "cell_type": "markdown",
   "metadata": {},
   "source": [
    "执行后显示如下返回值，说明Serving服务已正确执行Densenet121网络模型的推理。\n",
    "```text\n",
    "Labrador retriever\n",
    "```"
   ]
  }
 ],
 "metadata": {
  "kernelspec": {
   "display_name": "Python 3",
   "language": "python",
   "name": "python3"
  },
  "language_info": {
   "codemirror_mode": {
    "name": "ipython",
    "version": 3
   },
   "file_extension": ".py",
   "mimetype": "text/x-python",
   "name": "python",
   "nbconvert_exporter": "python",
   "pygments_lexer": "ipython3",
   "version": "3.7.11"
  }
 },
 "nbformat": 4,
 "nbformat_minor": 4
}
